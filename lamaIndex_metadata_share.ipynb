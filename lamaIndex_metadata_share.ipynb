{
 "cells": [
  {
   "cell_type": "code",
   "execution_count": 1,
   "id": "83f773b6",
   "metadata": {},
   "outputs": [],
   "source": [
    "import os\n",
    "os.environ['CURL_CA_BUNDLE'] = \"\""
   ]
  },
  {
   "cell_type": "code",
   "execution_count": 2,
   "id": "be27b302",
   "metadata": {},
   "outputs": [
    {
     "data": {
      "text/plain": [
       "'2.27.0'"
      ]
     },
     "execution_count": 2,
     "metadata": {},
     "output_type": "execute_result"
    }
   ],
   "source": [
    "import requests\n",
    "requests.__version__"
   ]
  },
  {
   "cell_type": "code",
   "execution_count": 3,
   "id": "529f42a7",
   "metadata": {},
   "outputs": [],
   "source": [
    "import logging\n",
    "import sys\n",
    "\n",
    "from llama_index.callbacks import CallbackManager, LlamaDebugHandler\n",
    "from llama_index.llms import LlamaCPP\n",
    "from llama_index.llms.llama_utils import messages_to_prompt, completion_to_prompt\n",
    "from llama_index.embeddings import HuggingFaceEmbedding\n",
    "\n",
    "import os\n",
    "from llama_index import VectorStoreIndex, SimpleDirectoryReader, ServiceContext\n",
    "from llama_index import StorageContext, load_index_from_storage\n",
    "\n",
    "from llama_index.node_parser import SimpleNodeParser\n",
    "from llama_index import VectorStoreIndex, set_global_service_context\n",
    "from llama_index.evaluation import DatasetGenerator, RelevancyEvaluator\n",
    "\n",
    "from IPython.display import Markdown, display\n",
    "from llama_index.prompts import PromptTemplate\n",
    "\n",
    "from accelerate import Accelerator\n",
    "\n",
    "from llama_index.vector_stores.types import ExactMatchFilter, MetadataFilters, MetadataFilter\n",
    "from llama_index.vector_stores import FilterOperator, FilterCondition\n",
    "\n",
    "\n",
    "import os\n",
    "import re\n",
    "import glob\n",
    "import fitz\n"
   ]
  },
  {
   "cell_type": "code",
   "execution_count": null,
   "id": "fc4f6b9f",
   "metadata": {},
   "outputs": [],
   "source": [
    "logging.basicConfig(stream=sys.stdout, level=logging.INFO)  # Change INFO to DEBUG if you want more extensive logging\n",
    "logging.getLogger().addHandler(logging.StreamHandler(stream=sys.stdout))\n",
    "\n",
    "llama_debug = LlamaDebugHandler(print_trace_on_end=True)\n",
    "callback_manager = CallbackManager([llama_debug])\n",
    "\n",
    "llm = LlamaCPP(\n",
    "#    \n",
    "    model_path=r\"llama-2-7b-chat.Q2_K.gguf\",\n",
    "    \n",
    "    temperature=0.1,\n",
    "    max_new_tokens=1024,\n",
    "    \n",
    "    # llama2 has a context window of 4096 tokens, but we set it lower to allow for some wiggle room\n",
    "    context_window=5000,  # note, this sets n_ctx in the model_kwargs below, so you don't need to pass it there.\n",
    "    \n",
    "    # kwargs to pass to __call__()\n",
    "    generate_kwargs={},\n",
    "    \n",
    "    # kwargs to pass to __init__()\n",
    "    # set to at least 1 to use GPU\n",
    "    model_kwargs={\"n_gpu_layers\": 100, \"repetition_penalty\":1.5},\n",
    "    \n",
    "    # transform inputs into Llama2 format\n",
    "    messages_to_prompt=messages_to_prompt,\n",
    "    completion_to_prompt=completion_to_prompt,\n",
    "#     verbose=False,\n",
    ")"
   ]
  },
  {
   "cell_type": "code",
   "execution_count": 11,
   "id": "c6cdb48a",
   "metadata": {},
   "outputs": [],
   "source": [
    "accelerator = Accelerator()\n",
    "llm = accelerator.prepare(llm)"
   ]
  },
  {
   "cell_type": "code",
   "execution_count": null,
   "id": "921a3af7",
   "metadata": {},
   "outputs": [],
   "source": [
    "embeddings = HuggingFaceEmbedding(device=0, \n",
    "                                 cache_folder = r\"\\cache_temp\")\n",
    "\n",
    "# chunk_size - It defines the size of the chunks (or nodes) that documents are broken into when they are indexed by LlamaIndex\n",
    "service_context = ServiceContext.from_defaults(llm=llm, chunk_size=1024,\n",
    "                                               embed_model=embeddings,\n",
    "                                               callback_manager=callback_manager)\n",
    "set_global_service_context(service_context)\n"
   ]
  },
  {
   "cell_type": "code",
   "execution_count": 13,
   "id": "4cd9adc0",
   "metadata": {},
   "outputs": [
    {
     "name": "stderr",
     "output_type": "stream",
     "text": [
      "\n",
      "llama_print_timings:        load time =    4917.89 ms\n",
      "llama_print_timings:      sample time =      21.77 ms /    91 runs   (    0.24 ms per token,  4181.02 tokens per second)\n",
      "llama_print_timings: prompt eval time =    4917.61 ms /    71 tokens (   69.26 ms per token,    14.44 tokens per second)\n",
      "llama_print_timings:        eval time =   23239.14 ms /    90 runs   (  258.21 ms per token,     3.87 tokens per second)\n",
      "llama_print_timings:       total time =   28523.14 ms /   161 tokens\n"
     ]
    },
    {
     "name": "stdout",
     "output_type": "stream",
     "text": [
      "CPU times: total: 27.2 s\n",
      "Wall time: 28.5 s\n"
     ]
    },
    {
     "data": {
      "text/plain": [
       "'  Of course! The color red is a vibrant and powerful hue that is often associated with energy, passion, and emotion. It is often used to represent love, anger, and excitement. Red is also a warm and inviting color that can evoke feelings of comfort and warmth. In many cultures, red is considered a symbol of good luck and prosperity. Did you have any other questions about the color red?'"
      ]
     },
     "execution_count": 13,
     "metadata": {},
     "output_type": "execute_result"
    }
   ],
   "source": [
    "%%time\n",
    "llm.complete('Tell me something about color Red').text"
   ]
  },
  {
   "cell_type": "code",
   "execution_count": 42,
   "id": "83318e6a",
   "metadata": {},
   "outputs": [],
   "source": [
    "transcript_directory = r\"Sandy_blogspot_pdf\"\n",
    "\n",
    "# Add filename as metadata to each chunk associated with a document/transcript\n",
    "filename_fn = lambda filename: {'post_title': os.path.splitext(os.path.basename(filename))[0].split('__')[0],\n",
    "                               'post_year': os.path.splitext(os.path.basename(filename))[0].split('__')[1]}\n",
    "documents = SimpleDirectoryReader(transcript_directory, filename_as_id=True, \n",
    "                                  file_metadata=filename_fn).load_data()"
   ]
  },
  {
   "cell_type": "code",
   "execution_count": 44,
   "id": "413d3e95",
   "metadata": {},
   "outputs": [
    {
     "data": {
      "text/plain": [
       "{'page_label': '1',\n",
       " 'file_name': 'Sandy_blogspot_pdf\\\\A decade of transition__2020.pdf',\n",
       " 'post_title': 'A decade of transition',\n",
       " 'post_year': '2020'}"
      ]
     },
     "execution_count": 44,
     "metadata": {},
     "output_type": "execute_result"
    }
   ],
   "source": [
    "documents[12].metadata\n",
    "# ----------------------\n",
    "# {'page_label': '1',\n",
    "#  'file_name': 'Sandy_blogspot_pdf\\\\A decade of transition__2010.pdf',\n",
    "#  'post_title': 'A decade of transition',\n",
    "#  'post_year': '2010'}"
   ]
  },
  {
   "cell_type": "code",
   "execution_count": 47,
   "id": "2646a54a",
   "metadata": {},
   "outputs": [
    {
     "name": "stdout",
     "output_type": "stream",
     "text": [
      "**********\n",
      "Trace: index_construction\n",
      "    |_embedding ->  2.540562 seconds\n",
      "    |_embedding ->  2.269369 seconds\n",
      "    |_embedding ->  2.20695 seconds\n",
      "    |_embedding ->  2.264154 seconds\n",
      "    |_embedding ->  2.350412 seconds\n",
      "    |_embedding ->  1.731686 seconds\n",
      "    |_embedding ->  1.939932 seconds\n",
      "    |_embedding ->  2.271608 seconds\n",
      "    |_embedding ->  2.352095 seconds\n",
      "    |_embedding ->  2.387446 seconds\n",
      "    |_embedding ->  2.258914 seconds\n",
      "    |_embedding ->  2.272538 seconds\n",
      "    |_embedding ->  2.272615 seconds\n",
      "    |_embedding ->  2.328629 seconds\n",
      "    |_embedding ->  2.282732 seconds\n",
      "    |_embedding ->  2.282607 seconds\n",
      "    |_embedding ->  2.269877 seconds\n",
      "    |_embedding ->  2.337535 seconds\n",
      "    |_embedding ->  2.348576 seconds\n",
      "    |_embedding ->  2.297429 seconds\n",
      "    |_embedding ->  2.241221 seconds\n",
      "    |_embedding ->  2.13362 seconds\n",
      "**********\n"
     ]
    }
   ],
   "source": [
    "# Exclude metadata from the LLM, meaning it won't read it when generating a response.\n",
    "# Future - consider looping over documents and setting the id_ to basename, instead of fullpath\n",
    "[document.excluded_llm_metadata_keys.append('post_title') for document in documents]\n",
    "\n",
    "parser = SimpleNodeParser.from_defaults(chunk_size=600, chunk_overlap=50)\n",
    "pdf_nodes = parser.get_nodes_from_documents(documents)\n",
    "\n",
    "index = VectorStoreIndex(nodes=pdf_nodes)"
   ]
  },
  {
   "cell_type": "code",
   "execution_count": 48,
   "id": "5bb4d098",
   "metadata": {},
   "outputs": [
    {
     "name": "stdout",
     "output_type": "stream",
     "text": [
      "150 kms in 15 days\n",
      "A decade of transition\n"
     ]
    }
   ],
   "source": [
    "print(documents[0].metadata['post_title'])\n",
    "print(documents[12].metadata['post_title'])"
   ]
  },
  {
   "cell_type": "code",
   "execution_count": 49,
   "id": "4e1087a2",
   "metadata": {},
   "outputs": [
    {
     "name": "stdout",
     "output_type": "stream",
     "text": [
      "Number of documents:196\n",
      "Number of nodes:218\n"
     ]
    }
   ],
   "source": [
    "print('Number of documents:'+str(len(documents)))\n",
    "print('Number of nodes:'+str(len(pdf_nodes)))"
   ]
  },
  {
   "cell_type": "code",
   "execution_count": 50,
   "id": "7bf07653",
   "metadata": {},
   "outputs": [
    {
     "name": "stdout",
     "output_type": "stream",
     "text": [
      "**********\n",
      "Trace: query\n",
      "    |_retrieve ->  0.022596 seconds\n",
      "      |_embedding ->  0.020071 seconds\n",
      "**********\n",
      "title:A decade of transition, Year:2020\n",
      "title:A decade of transition, Year:2020\n"
     ]
    }
   ],
   "source": [
    "filters = MetadataFilters(filters=[\n",
    "    ExactMatchFilter(\n",
    "        key=\"post_title\", \n",
    "        value='A decade of transition'\n",
    "    ),\n",
    "])\n",
    "\n",
    "retriever = index.as_retriever(filters=filters)\n",
    "docs = retriever.retrieve(\"Marathon running\")  # for this post - the prompt I give here is not critical\n",
    "\n",
    "# printing out the metadata\n",
    "for i in range(len(docs)):\n",
    "    print(\"title:\"+docs[i].metadata['post_title']+\", Year:\"+docs[i].metadata['post_year'])"
   ]
  },
  {
   "cell_type": "code",
   "execution_count": 54,
   "id": "c6dcaa48",
   "metadata": {},
   "outputs": [
    {
     "name": "stdout",
     "output_type": "stream",
     "text": [
      "**********\n",
      "Trace: query\n",
      "    |_retrieve ->  0.026319 seconds\n",
      "      |_embedding ->  0.02432 seconds\n",
      "**********\n",
      "title:Congrats Sandeep !!!, Year:2013\n",
      "title:Night before the Ride, Year:2013\n"
     ]
    }
   ],
   "source": [
    "filters = MetadataFilters(filters=[\n",
    "    ExactMatchFilter(\n",
    "        key=\"post_year\", \n",
    "        value='2013'\n",
    "    ),\n",
    "])\n",
    "\n",
    "retriever = index.as_retriever(filters=filters)\n",
    "docs = retriever.retrieve(\"Marathon running\")  # for this post - the prompt I give here is not critical\n",
    "\n",
    "# printing out the metadata\n",
    "for i in range(len(docs)):\n",
    "    print(\"title:\"+docs[i].metadata['post_title']+\", Year:\"+docs[i].metadata['post_year'])"
   ]
  },
  {
   "cell_type": "code",
   "execution_count": 55,
   "id": "67051348",
   "metadata": {},
   "outputs": [
    {
     "name": "stdout",
     "output_type": "stream",
     "text": [
      "**********\n",
      "Trace: query\n",
      "    |_retrieve ->  0.025634 seconds\n",
      "      |_embedding ->  0.024137 seconds\n",
      "**********\n",
      "title:Night before the Ride, Year:2013\n"
     ]
    }
   ],
   "source": [
    "filters = MetadataFilters(filters=[\n",
    "    ExactMatchFilter(\n",
    "        key=\"post_year\", \n",
    "        value='2013'\n",
    "    ),\n",
    "     ExactMatchFilter(\n",
    "        key=\"post_title\", \n",
    "        value='Night before the Ride'\n",
    "    ),\n",
    "])\n",
    "\n",
    "retriever = index.as_retriever(filters=filters)\n",
    "docs = retriever.retrieve(\"Marathon running\")  # for this post - the prompt I give here is not critical\n",
    "\n",
    "# printing out the metadata\n",
    "for i in range(len(docs)):\n",
    "    print(\"title:\"+docs[i].metadata['post_title']+\", Year:\"+docs[i].metadata['post_year'])"
   ]
  },
  {
   "cell_type": "code",
   "execution_count": null,
   "id": "a0ec4bf5",
   "metadata": {},
   "outputs": [],
   "source": []
  },
  {
   "cell_type": "code",
   "execution_count": 56,
   "id": "3802b71b",
   "metadata": {},
   "outputs": [
    {
     "name": "stdout",
     "output_type": "stream",
     "text": [
      "**********\n",
      "Trace: query\n",
      "    |_retrieve ->  0.030039 seconds\n",
      "      |_embedding ->  0.02754 seconds\n",
      "**********\n",
      "title:A decade of transition, Year:2020\n",
      "title:A decade of transition, Year:2020\n"
     ]
    }
   ],
   "source": [
    "filters = MetadataFilters(\n",
    "    filters=[\n",
    "        MetadataFilter(key=\"post_title\", value=\"A decade of transition\"),\n",
    "    ],\n",
    ")\n",
    "\n",
    "\n",
    "retriever = index.as_retriever(filters=filters)\n",
    "docs = retriever.retrieve(\"Marathon running\")  # for this post - the prompt I give here is not critical\n",
    "\n",
    "# printing out the metadata\n",
    "for i in range(len(docs)):\n",
    "    print(\"title:\"+docs[i].metadata['post_title']+\", Year:\"+docs[i].metadata['post_year'])"
   ]
  },
  {
   "cell_type": "code",
   "execution_count": 57,
   "id": "dc40da10",
   "metadata": {},
   "outputs": [
    {
     "name": "stdout",
     "output_type": "stream",
     "text": [
      "**********\n",
      "Trace: query\n",
      "    |_retrieve ->  0.027453 seconds\n",
      "      |_embedding ->  0.024355 seconds\n",
      "**********\n",
      "title:Congrats Sandeep !!!, Year:2013\n",
      "title:Night before the Ride, Year:2013\n"
     ]
    }
   ],
   "source": [
    "filters = MetadataFilters(\n",
    "    filters=[\n",
    "        MetadataFilter(key=\"post_year\", value=\"2013\"),\n",
    "    ],\n",
    ")\n",
    "\n",
    "\n",
    "retriever = index.as_retriever(filters=filters)\n",
    "docs = retriever.retrieve(\"Marathon running\")  # for this post - the prompt I give here is not critical\n",
    "\n",
    "# printing out the metadata\n",
    "for i in range(len(docs)):\n",
    "    print(\"title:\"+docs[i].metadata['post_title']+\", Year:\"+docs[i].metadata['post_year'])"
   ]
  },
  {
   "cell_type": "code",
   "execution_count": 61,
   "id": "147788d9",
   "metadata": {},
   "outputs": [
    {
     "name": "stdout",
     "output_type": "stream",
     "text": [
      "**********\n",
      "Trace: query\n",
      "    |_retrieve ->  0.02564 seconds\n",
      "      |_embedding ->  0.024114 seconds\n",
      "**********\n",
      "title:Night before the Ride, Year:2013\n"
     ]
    }
   ],
   "source": [
    "filters = MetadataFilters(\n",
    "    filters=[\n",
    "        MetadataFilter(key=\"post_year\", value=\"2013\"),\n",
    "        MetadataFilter(key=\"post_title\", value=\"Night before the Ride\")\n",
    "    ],\n",
    "    condition=FilterCondition.AND \n",
    ")\n",
    "\n",
    "\n",
    "retriever = index.as_retriever(filters=filters)\n",
    "docs = retriever.retrieve(\"Marathon running\")  # for this post - the prompt I give here is not critical\n",
    "\n",
    "# printing out the metadata\n",
    "for i in range(len(docs)):\n",
    "    print(\"title:\"+docs[i].metadata['post_title']+\", Year:\"+docs[i].metadata['post_year'])"
   ]
  },
  {
   "cell_type": "code",
   "execution_count": 64,
   "id": "f874a5ce",
   "metadata": {},
   "outputs": [
    {
     "name": "stdout",
     "output_type": "stream",
     "text": [
      "**********\n",
      "Trace: query\n",
      "    |_retrieve ->  0.031205 seconds\n",
      "      |_embedding ->  0.029205 seconds\n",
      "**********\n",
      "title:Night before the Ride, Year:2013\n"
     ]
    }
   ],
   "source": [
    "filters = MetadataFilters(\n",
    "    filters=[\n",
    "        MetadataFilter(key=\"post_year\", value=\"2013\"),\n",
    "        MetadataFilter(key=\"post_title\", value=\"Night before the Ride\")\n",
    "    ],\n",
    "    condition='or'\n",
    ")\n",
    "\n",
    "\n",
    "retriever = index.as_retriever(filters=filters)\n",
    "docs = retriever.retrieve(\"Marathon running\")  # for this post - the prompt I give here is not critical\n",
    "\n",
    "# printing out the metadata\n",
    "for i in range(len(docs)):\n",
    "    print(\"title:\"+docs[i].metadata['post_title']+\", Year:\"+docs[i].metadata['post_year'])"
   ]
  },
  {
   "cell_type": "code",
   "execution_count": null,
   "id": "8961a0b5",
   "metadata": {},
   "outputs": [],
   "source": []
  },
  {
   "cell_type": "code",
   "execution_count": 66,
   "id": "9eefc430",
   "metadata": {},
   "outputs": [
    {
     "name": "stdout",
     "output_type": "stream",
     "text": [
      "**********\n",
      "Trace: query\n",
      "    |_retrieve ->  0.032103 seconds\n",
      "      |_embedding ->  0.029321 seconds\n",
      "**********\n",
      "title:First Half Marathon + 2015 Resolutions, Year:2015\n",
      "title:Reflecting on First Half of 2015, Year:2015\n"
     ]
    }
   ],
   "source": [
    "filters = [\n",
    "    MetadataFilter(\n",
    "        key='post_year',\n",
    "        value=title,\n",
    "        operator='==',\n",
    "    \n",
    "    )\n",
    "    for title in ['2015', '2015']\n",
    "]\n",
    "\n",
    "filters = MetadataFilters(filters=filters, condition=\"or\")\n",
    "\n",
    "retriever = index.as_retriever(filters=filters)\n",
    "docs = retriever.retrieve(\"Marathon running\")\n",
    "\n",
    "for i in range(len(docs)):\n",
    "    print(\"title:\"+docs[i].metadata['post_title']+\", Year:\"+docs[i].metadata['post_year'])"
   ]
  },
  {
   "cell_type": "code",
   "execution_count": 14,
   "id": "f32e79f3",
   "metadata": {},
   "outputs": [],
   "source": [
    "# filters = MetadataFilters(\n",
    "#     filters=[\n",
    "#         MetadataFilter(key=\"post_title\", value=\"150 kms in 15 days\"),\n",
    "#         MetadataFilter(key=\"page_label\", value=\"1\"),\n",
    "#     ],\n",
    "#     condition=FilterCondition.OR,\n",
    "# )"
   ]
  },
  {
   "cell_type": "code",
   "execution_count": 15,
   "id": "a938372a",
   "metadata": {},
   "outputs": [
    {
     "name": "stdout",
     "output_type": "stream",
     "text": [
      "**********\n",
      "Trace: query\n",
      "    |_retrieve ->  0.010475 seconds\n",
      "      |_embedding ->  0.010475 seconds\n",
      "**********\n"
     ]
    }
   ],
   "source": []
  },
  {
   "cell_type": "code",
   "execution_count": 16,
   "id": "00353ce0",
   "metadata": {},
   "outputs": [],
   "source": []
  },
  {
   "cell_type": "code",
   "execution_count": 69,
   "id": "bda07c57",
   "metadata": {},
   "outputs": [
    {
     "name": "stderr",
     "output_type": "stream",
     "text": [
      "Llama.generate: prefix-match hit\n",
      "\n",
      "llama_print_timings:        load time =    4917.89 ms\n",
      "llama_print_timings:      sample time =      55.65 ms /   213 runs   (    0.26 ms per token,  3827.77 tokens per second)\n",
      "llama_print_timings: prompt eval time =   62716.04 ms /  1486 tokens (   42.20 ms per token,    23.69 tokens per second)\n",
      "llama_print_timings:        eval time =  156119.55 ms /   212 runs   (  736.41 ms per token,     1.36 tokens per second)\n",
      "llama_print_timings:       total time =  219963.28 ms /  1698 tokens\n"
     ]
    },
    {
     "name": "stdout",
     "output_type": "stream",
     "text": [
      "**********\n",
      "Trace: query\n",
      "    |_query ->  220.005537 seconds\n",
      "      |_retrieve ->  0.032903 seconds\n",
      "        |_embedding ->  0.028785 seconds\n",
      "      |_synthesize ->  219.972634 seconds\n",
      "        |_templating ->  0.0 seconds\n",
      "        |_llm ->  219.966011 seconds\n",
      "**********\n",
      "  Based on the information provided in the three documents, the theme that emerges is the importance of self-motivation and self-belief. The author of the first document made a promise to themselves to never doubt their capabilities and to always remember this promise when facing challenges. The author of the second document also made a promise to themselves to never give up on their dreams and to keep pushing themselves, despite feeling discouraged or defeated. The author of the third document is currently trying to accomplish a task that they have been struggling with for some time, and they are using their own experiences and the power of self-belief to motivate themselves and push through their challenges.\n",
      "Overall, the theme that emerges is the power of self-belief and self-motivation in overcoming challenges and achieving one's goals. The documents highlight the importance of having faith in oneself and one's abilities, and of never giving up on one's dreams and aspirations.\n",
      "\n",
      " Metadata\n",
      "title:First Half Marathon + 2015 Resolutions, Year:2015\n",
      "title:Reflecting on First Half of 2015, Year:2015\n",
      "CPU times: total: 3min 31s\n",
      "Wall time: 3min 40s\n"
     ]
    }
   ],
   "source": [
    "%%time\n",
    "\n",
    "filters = MetadataFilters(\n",
    "    filters=[\n",
    "        MetadataFilter(key=\"post_year\", value=\"2017\"),\n",
    "    ],\n",
    ")\n",
    "query_engine = index.as_query_engine(service_context=service_context,\n",
    "                                     similarity_top_k=5,\n",
    "                                         filters = filters,\n",
    "                                       response_mode='tree_summarize')\n",
    "    \n",
    "response = query_engine.query(\"Summarise the theme of all documents\")\n",
    "print(response)\n",
    "\n",
    "print('\\n Metadata')\n",
    "\n",
    "\n",
    "for i in range(len(docs)):\n",
    "    print(\"title:\"+docs[i].metadata['post_title']+\", Year:\"+docs[i].metadata['post_year'])"
   ]
  },
  {
   "cell_type": "code",
   "execution_count": null,
   "id": "d6f48731",
   "metadata": {},
   "outputs": [],
   "source": []
  }
 ],
 "metadata": {
  "kernelspec": {
   "display_name": "Python 3 (ipykernel)",
   "language": "python",
   "name": "python3"
  },
  "language_info": {
   "codemirror_mode": {
    "name": "ipython",
    "version": 3
   },
   "file_extension": ".py",
   "mimetype": "text/x-python",
   "name": "python",
   "nbconvert_exporter": "python",
   "pygments_lexer": "ipython3",
   "version": "3.10.9"
  }
 },
 "nbformat": 4,
 "nbformat_minor": 5
}
